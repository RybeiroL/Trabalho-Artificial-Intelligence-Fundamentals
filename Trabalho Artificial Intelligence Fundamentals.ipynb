Trabalho Artificial Intelligence Fundamentals.ipynb ← notebook do Google Colab com o código completo
https://colab.research.google.com/drive/1jaqrflkfsK-Ghzs5Z0x-RI9ZvWGzGeSu?usp=sharing
